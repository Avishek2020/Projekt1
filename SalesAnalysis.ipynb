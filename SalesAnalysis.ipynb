{
  "nbformat": 4,
  "nbformat_minor": 0,
  "metadata": {
    "colab": {
      "name": "SalesAnalysis.ipynb",
      "provenance": [],
      "authorship_tag": "ABX9TyOGw8WZfTxlgm7xFe1Xgd7c",
      "include_colab_link": true
    },
    "kernelspec": {
      "name": "python3",
      "display_name": "Python 3"
    }
  },
  "cells": [
    {
      "cell_type": "markdown",
      "metadata": {
        "id": "view-in-github",
        "colab_type": "text"
      },
      "source": [
        "<a href=\"https://colab.research.google.com/github/Avishek2020/Projekt1/blob/master/SalesAnalysis.ipynb\" target=\"_parent\"><img src=\"https://colab.research.google.com/assets/colab-badge.svg\" alt=\"Open In Colab\"/></a>"
      ]
    },
    {
      "cell_type": "code",
      "metadata": {
        "id": "yVt0p9HO08Hg",
        "colab_type": "code",
        "colab": {}
      },
      "source": [
        " # https://www.youtube.com/watch?v=eMOA1pPVUc4\n",
        " import pandas as pd\n",
        " import os"
      ],
      "execution_count": 58,
      "outputs": []
    },
    {
      "cell_type": "code",
      "metadata": {
        "id": "qNKko8Nv1viZ",
        "colab_type": "code",
        "colab": {
          "base_uri": "https://localhost:8080/",
          "height": 265
        },
        "outputId": "39448739-e51b-4d6b-89d9-d87227e74291"
      },
      "source": [
        "df = pd.read_csv(\"/content/sales_data/Sales_April_2019.csv\")\n",
        "df.count"
      ],
      "execution_count": 31,
      "outputs": [
        {
          "output_type": "execute_result",
          "data": {
            "text/plain": [
              "<bound method DataFrame.count of       Order ID  ...                        Purchase Address\n",
              "0       176558  ...            917 1st St, Dallas, TX 75001\n",
              "1          NaN  ...                                     NaN\n",
              "2       176559  ...       682 Chestnut St, Boston, MA 02215\n",
              "3       176560  ...    669 Spruce St, Los Angeles, CA 90001\n",
              "4       176560  ...    669 Spruce St, Los Angeles, CA 90001\n",
              "...        ...  ...                                     ...\n",
              "18378   194090  ...   177 Jackson St, Los Angeles, CA 90001\n",
              "18379   194091  ...         311 Forest St, Austin, TX 73301\n",
              "18380   194092  ...  347 Sunset St, San Francisco, CA 94016\n",
              "18381   194093  ...         835 Lake St, Portland, OR 97035\n",
              "18382   194094  ...          354 North St, Boston, MA 02215\n",
              "\n",
              "[18383 rows x 6 columns]>"
            ]
          },
          "metadata": {
            "tags": []
          },
          "execution_count": 31
        }
      ]
    },
    {
      "cell_type": "code",
      "metadata": {
        "id": "LeSEm8091vgY",
        "colab_type": "code",
        "colab": {}
      },
      "source": [
        "files = [file for file in os.listdir(\"/content/sales_data/\")]"
      ],
      "execution_count": 3,
      "outputs": []
    },
    {
      "cell_type": "code",
      "metadata": {
        "id": "k3rZBTa31vdp",
        "colab_type": "code",
        "colab": {}
      },
      "source": [
        "# https://railsware.com/blog/python-for-machine-learning-pandas-axis-explained/#:~:text=A%20DataFrame%20object%20has%20two,it%20goes%20along%20rows%20direction.\n",
        "all_month_data = pd.DataFrame()\n",
        "for file in files:\n",
        "    if file[-3:] in \"csv\":\n",
        "        #print(\"/content/sales_data/\"+file)\n",
        "        df = pd.read_csv(\"/content/sales_data/\"+file)\n",
        "        all_month_data = pd.concat([all_month_data, df], axis =0)\n",
        "\n",
        "all_month_data.to_csv(\"all_data.csv\", index=False)"
      ],
      "execution_count": 4,
      "outputs": []
    },
    {
      "cell_type": "code",
      "metadata": {
        "id": "Mi26Vy-n_PT5",
        "colab_type": "code",
        "colab": {
          "base_uri": "https://localhost:8080/",
          "height": 197
        },
        "outputId": "352787be-6683-4623-c734-e54824399f5e"
      },
      "source": [
        "all_data = pd.read_csv(\"/content/all_data.csv\")\n",
        "all_data.head()"
      ],
      "execution_count": 5,
      "outputs": [
        {
          "output_type": "execute_result",
          "data": {
            "text/html": [
              "<div>\n",
              "<style scoped>\n",
              "    .dataframe tbody tr th:only-of-type {\n",
              "        vertical-align: middle;\n",
              "    }\n",
              "\n",
              "    .dataframe tbody tr th {\n",
              "        vertical-align: top;\n",
              "    }\n",
              "\n",
              "    .dataframe thead th {\n",
              "        text-align: right;\n",
              "    }\n",
              "</style>\n",
              "<table border=\"1\" class=\"dataframe\">\n",
              "  <thead>\n",
              "    <tr style=\"text-align: right;\">\n",
              "      <th></th>\n",
              "      <th>Order ID</th>\n",
              "      <th>Product</th>\n",
              "      <th>Quantity Ordered</th>\n",
              "      <th>Price Each</th>\n",
              "      <th>Order Date</th>\n",
              "      <th>Purchase Address</th>\n",
              "    </tr>\n",
              "  </thead>\n",
              "  <tbody>\n",
              "    <tr>\n",
              "      <th>0</th>\n",
              "      <td>194095</td>\n",
              "      <td>Wired Headphones</td>\n",
              "      <td>1</td>\n",
              "      <td>11.99</td>\n",
              "      <td>05/16/19 17:14</td>\n",
              "      <td>669 2nd St, New York City, NY 10001</td>\n",
              "    </tr>\n",
              "    <tr>\n",
              "      <th>1</th>\n",
              "      <td>194096</td>\n",
              "      <td>AA Batteries (4-pack)</td>\n",
              "      <td>1</td>\n",
              "      <td>3.84</td>\n",
              "      <td>05/19/19 14:43</td>\n",
              "      <td>844 Walnut St, Dallas, TX 75001</td>\n",
              "    </tr>\n",
              "    <tr>\n",
              "      <th>2</th>\n",
              "      <td>194097</td>\n",
              "      <td>27in FHD Monitor</td>\n",
              "      <td>1</td>\n",
              "      <td>149.99</td>\n",
              "      <td>05/24/19 11:36</td>\n",
              "      <td>164 Madison St, New York City, NY 10001</td>\n",
              "    </tr>\n",
              "    <tr>\n",
              "      <th>3</th>\n",
              "      <td>194098</td>\n",
              "      <td>Wired Headphones</td>\n",
              "      <td>1</td>\n",
              "      <td>11.99</td>\n",
              "      <td>05/02/19 20:40</td>\n",
              "      <td>622 Meadow St, Dallas, TX 75001</td>\n",
              "    </tr>\n",
              "    <tr>\n",
              "      <th>4</th>\n",
              "      <td>194099</td>\n",
              "      <td>AAA Batteries (4-pack)</td>\n",
              "      <td>2</td>\n",
              "      <td>2.99</td>\n",
              "      <td>05/11/19 22:55</td>\n",
              "      <td>17 Church St, Seattle, WA 98101</td>\n",
              "    </tr>\n",
              "  </tbody>\n",
              "</table>\n",
              "</div>"
            ],
            "text/plain": [
              "  Order ID  ...                         Purchase Address\n",
              "0   194095  ...      669 2nd St, New York City, NY 10001\n",
              "1   194096  ...          844 Walnut St, Dallas, TX 75001\n",
              "2   194097  ...  164 Madison St, New York City, NY 10001\n",
              "3   194098  ...          622 Meadow St, Dallas, TX 75001\n",
              "4   194099  ...          17 Church St, Seattle, WA 98101\n",
              "\n",
              "[5 rows x 6 columns]"
            ]
          },
          "metadata": {
            "tags": []
          },
          "execution_count": 5
        }
      ]
    },
    {
      "cell_type": "markdown",
      "metadata": {
        "id": "u6hUgfiEHRgL",
        "colab_type": "text"
      },
      "source": [
        " ### Clean up the Data"
      ]
    },
    {
      "cell_type": "markdown",
      "metadata": {
        "id": "fSSweYYFHS_-",
        "colab_type": "text"
      },
      "source": [
        "#### *Drop rows of NAN*"
      ]
    },
    {
      "cell_type": "code",
      "metadata": {
        "id": "5QvKM1NuFW5S",
        "colab_type": "code",
        "colab": {
          "base_uri": "https://localhost:8080/",
          "height": 197
        },
        "outputId": "e5757a8e-7422-4488-ee10-2b147fbb0207"
      },
      "source": [
        "#nan_df = all_data[all_data.isna().any(axis=1)]\n",
        "all_data = all_data.dropna(axis=0, how='all')\n",
        "all_data.head()"
      ],
      "execution_count": 7,
      "outputs": [
        {
          "output_type": "execute_result",
          "data": {
            "text/html": [
              "<div>\n",
              "<style scoped>\n",
              "    .dataframe tbody tr th:only-of-type {\n",
              "        vertical-align: middle;\n",
              "    }\n",
              "\n",
              "    .dataframe tbody tr th {\n",
              "        vertical-align: top;\n",
              "    }\n",
              "\n",
              "    .dataframe thead th {\n",
              "        text-align: right;\n",
              "    }\n",
              "</style>\n",
              "<table border=\"1\" class=\"dataframe\">\n",
              "  <thead>\n",
              "    <tr style=\"text-align: right;\">\n",
              "      <th></th>\n",
              "      <th>Order ID</th>\n",
              "      <th>Product</th>\n",
              "      <th>Quantity Ordered</th>\n",
              "      <th>Price Each</th>\n",
              "      <th>Order Date</th>\n",
              "      <th>Purchase Address</th>\n",
              "    </tr>\n",
              "  </thead>\n",
              "  <tbody>\n",
              "    <tr>\n",
              "      <th>0</th>\n",
              "      <td>194095</td>\n",
              "      <td>Wired Headphones</td>\n",
              "      <td>1</td>\n",
              "      <td>11.99</td>\n",
              "      <td>05/16/19 17:14</td>\n",
              "      <td>669 2nd St, New York City, NY 10001</td>\n",
              "    </tr>\n",
              "    <tr>\n",
              "      <th>1</th>\n",
              "      <td>194096</td>\n",
              "      <td>AA Batteries (4-pack)</td>\n",
              "      <td>1</td>\n",
              "      <td>3.84</td>\n",
              "      <td>05/19/19 14:43</td>\n",
              "      <td>844 Walnut St, Dallas, TX 75001</td>\n",
              "    </tr>\n",
              "    <tr>\n",
              "      <th>2</th>\n",
              "      <td>194097</td>\n",
              "      <td>27in FHD Monitor</td>\n",
              "      <td>1</td>\n",
              "      <td>149.99</td>\n",
              "      <td>05/24/19 11:36</td>\n",
              "      <td>164 Madison St, New York City, NY 10001</td>\n",
              "    </tr>\n",
              "    <tr>\n",
              "      <th>3</th>\n",
              "      <td>194098</td>\n",
              "      <td>Wired Headphones</td>\n",
              "      <td>1</td>\n",
              "      <td>11.99</td>\n",
              "      <td>05/02/19 20:40</td>\n",
              "      <td>622 Meadow St, Dallas, TX 75001</td>\n",
              "    </tr>\n",
              "    <tr>\n",
              "      <th>4</th>\n",
              "      <td>194099</td>\n",
              "      <td>AAA Batteries (4-pack)</td>\n",
              "      <td>2</td>\n",
              "      <td>2.99</td>\n",
              "      <td>05/11/19 22:55</td>\n",
              "      <td>17 Church St, Seattle, WA 98101</td>\n",
              "    </tr>\n",
              "  </tbody>\n",
              "</table>\n",
              "</div>"
            ],
            "text/plain": [
              "  Order ID  ...                         Purchase Address\n",
              "0   194095  ...      669 2nd St, New York City, NY 10001\n",
              "1   194096  ...          844 Walnut St, Dallas, TX 75001\n",
              "2   194097  ...  164 Madison St, New York City, NY 10001\n",
              "3   194098  ...          622 Meadow St, Dallas, TX 75001\n",
              "4   194099  ...          17 Church St, Seattle, WA 98101\n",
              "\n",
              "[5 rows x 6 columns]"
            ]
          },
          "metadata": {
            "tags": []
          },
          "execution_count": 7
        }
      ]
    },
    {
      "cell_type": "markdown",
      "metadata": {
        "id": "cBJ-msJBMdbZ",
        "colab_type": "text"
      },
      "source": [
        "#### *Find 'Or' and delete it*"
      ]
    },
    {
      "cell_type": "code",
      "metadata": {
        "id": "_DPj1JKBMjD8",
        "colab_type": "code",
        "colab": {
          "base_uri": "https://localhost:8080/",
          "height": 265
        },
        "outputId": "0c15fbd4-7bff-4955-a2e0-aa66e11f0239"
      },
      "source": [
        "all_data =  all_data[all_data['Order Date'].str[0:2] !='Or']\n",
        "all_data.count"
      ],
      "execution_count": 8,
      "outputs": [
        {
          "output_type": "execute_result",
          "data": {
            "text/plain": [
              "<bound method DataFrame.count of        Order ID  ...                           Purchase Address\n",
              "0        194095  ...        669 2nd St, New York City, NY 10001\n",
              "1        194096  ...            844 Walnut St, Dallas, TX 75001\n",
              "2        194097  ...    164 Madison St, New York City, NY 10001\n",
              "3        194098  ...            622 Meadow St, Dallas, TX 75001\n",
              "4        194099  ...            17 Church St, Seattle, WA 98101\n",
              "...         ...  ...                                        ...\n",
              "186845   176554  ...       672 12th St, San Francisco, CA 94016\n",
              "186846   176555  ...         42 4th St, San Francisco, CA 94016\n",
              "186847   176556  ...          871 7th St, Los Angeles, CA 90001\n",
              "186848   176557  ...  83 Washington St, San Francisco, CA 94016\n",
              "186849   176557  ...  83 Washington St, San Francisco, CA 94016\n",
              "\n",
              "[185950 rows x 6 columns]>"
            ]
          },
          "metadata": {
            "tags": []
          },
          "execution_count": 8
        }
      ]
    },
    {
      "cell_type": "markdown",
      "metadata": {
        "id": "Foa4AjJ-S0RB",
        "colab_type": "text"
      },
      "source": [
        "#### *Convert columns Qumatity Ordered and Price Each to correct type*"
      ]
    },
    {
      "cell_type": "code",
      "metadata": {
        "id": "zMIl5bQkTAvZ",
        "colab_type": "code",
        "colab": {}
      },
      "source": [
        "all_data['Quantity Ordered'] = pd.to_numeric(all_data['Quantity Ordered']) #make numeric\n",
        "all_data['Price Each'] = pd.to_numeric(all_data['Price Each']) #make float"
      ],
      "execution_count": 9,
      "outputs": []
    },
    {
      "cell_type": "markdown",
      "metadata": {
        "id": "OpJ1mD7zJyAb",
        "colab_type": "text"
      },
      "source": [
        "### Augment data with additional column"
      ]
    },
    {
      "cell_type": "markdown",
      "metadata": {
        "id": "TOoFGp8WJ4GC",
        "colab_type": "text"
      },
      "source": [
        "#### Add Month column"
      ]
    },
    {
      "cell_type": "code",
      "metadata": {
        "id": "DnzmN63TJ8PV",
        "colab_type": "code",
        "colab": {
          "base_uri": "https://localhost:8080/",
          "height": 197
        },
        "outputId": "19fedb92-b33b-452c-b064-9920b46c277c"
      },
      "source": [
        "all_data['Month'] = all_data['Order Date'].str[0:2]\n",
        "all_data['Month'] =all_data['Month'].astype(\"int32\")\n",
        "all_data.head()"
      ],
      "execution_count": 10,
      "outputs": [
        {
          "output_type": "execute_result",
          "data": {
            "text/html": [
              "<div>\n",
              "<style scoped>\n",
              "    .dataframe tbody tr th:only-of-type {\n",
              "        vertical-align: middle;\n",
              "    }\n",
              "\n",
              "    .dataframe tbody tr th {\n",
              "        vertical-align: top;\n",
              "    }\n",
              "\n",
              "    .dataframe thead th {\n",
              "        text-align: right;\n",
              "    }\n",
              "</style>\n",
              "<table border=\"1\" class=\"dataframe\">\n",
              "  <thead>\n",
              "    <tr style=\"text-align: right;\">\n",
              "      <th></th>\n",
              "      <th>Order ID</th>\n",
              "      <th>Product</th>\n",
              "      <th>Quantity Ordered</th>\n",
              "      <th>Price Each</th>\n",
              "      <th>Order Date</th>\n",
              "      <th>Purchase Address</th>\n",
              "      <th>Month</th>\n",
              "    </tr>\n",
              "  </thead>\n",
              "  <tbody>\n",
              "    <tr>\n",
              "      <th>0</th>\n",
              "      <td>194095</td>\n",
              "      <td>Wired Headphones</td>\n",
              "      <td>1</td>\n",
              "      <td>11.99</td>\n",
              "      <td>05/16/19 17:14</td>\n",
              "      <td>669 2nd St, New York City, NY 10001</td>\n",
              "      <td>5</td>\n",
              "    </tr>\n",
              "    <tr>\n",
              "      <th>1</th>\n",
              "      <td>194096</td>\n",
              "      <td>AA Batteries (4-pack)</td>\n",
              "      <td>1</td>\n",
              "      <td>3.84</td>\n",
              "      <td>05/19/19 14:43</td>\n",
              "      <td>844 Walnut St, Dallas, TX 75001</td>\n",
              "      <td>5</td>\n",
              "    </tr>\n",
              "    <tr>\n",
              "      <th>2</th>\n",
              "      <td>194097</td>\n",
              "      <td>27in FHD Monitor</td>\n",
              "      <td>1</td>\n",
              "      <td>149.99</td>\n",
              "      <td>05/24/19 11:36</td>\n",
              "      <td>164 Madison St, New York City, NY 10001</td>\n",
              "      <td>5</td>\n",
              "    </tr>\n",
              "    <tr>\n",
              "      <th>3</th>\n",
              "      <td>194098</td>\n",
              "      <td>Wired Headphones</td>\n",
              "      <td>1</td>\n",
              "      <td>11.99</td>\n",
              "      <td>05/02/19 20:40</td>\n",
              "      <td>622 Meadow St, Dallas, TX 75001</td>\n",
              "      <td>5</td>\n",
              "    </tr>\n",
              "    <tr>\n",
              "      <th>4</th>\n",
              "      <td>194099</td>\n",
              "      <td>AAA Batteries (4-pack)</td>\n",
              "      <td>2</td>\n",
              "      <td>2.99</td>\n",
              "      <td>05/11/19 22:55</td>\n",
              "      <td>17 Church St, Seattle, WA 98101</td>\n",
              "      <td>5</td>\n",
              "    </tr>\n",
              "  </tbody>\n",
              "</table>\n",
              "</div>"
            ],
            "text/plain": [
              "  Order ID  ... Month\n",
              "0   194095  ...     5\n",
              "1   194096  ...     5\n",
              "2   194097  ...     5\n",
              "3   194098  ...     5\n",
              "4   194099  ...     5\n",
              "\n",
              "[5 rows x 7 columns]"
            ]
          },
          "metadata": {
            "tags": []
          },
          "execution_count": 10
        }
      ]
    },
    {
      "cell_type": "markdown",
      "metadata": {
        "id": "UyjJfh0gRfMy",
        "colab_type": "text"
      },
      "source": [
        "#### Add a sales column"
      ]
    },
    {
      "cell_type": "code",
      "metadata": {
        "id": "fxeF4so3RjLk",
        "colab_type": "code",
        "colab": {
          "base_uri": "https://localhost:8080/",
          "height": 406
        },
        "outputId": "73c60643-4b60-4a89-83c8-8a6fb8622ae1"
      },
      "source": [
        "all_data['Sales'] = all_data['Quantity Ordered'] * all_data['Price Each']\n",
        "all_data"
      ],
      "execution_count": 11,
      "outputs": [
        {
          "output_type": "execute_result",
          "data": {
            "text/html": [
              "<div>\n",
              "<style scoped>\n",
              "    .dataframe tbody tr th:only-of-type {\n",
              "        vertical-align: middle;\n",
              "    }\n",
              "\n",
              "    .dataframe tbody tr th {\n",
              "        vertical-align: top;\n",
              "    }\n",
              "\n",
              "    .dataframe thead th {\n",
              "        text-align: right;\n",
              "    }\n",
              "</style>\n",
              "<table border=\"1\" class=\"dataframe\">\n",
              "  <thead>\n",
              "    <tr style=\"text-align: right;\">\n",
              "      <th></th>\n",
              "      <th>Order ID</th>\n",
              "      <th>Product</th>\n",
              "      <th>Quantity Ordered</th>\n",
              "      <th>Price Each</th>\n",
              "      <th>Order Date</th>\n",
              "      <th>Purchase Address</th>\n",
              "      <th>Month</th>\n",
              "      <th>Sales</th>\n",
              "    </tr>\n",
              "  </thead>\n",
              "  <tbody>\n",
              "    <tr>\n",
              "      <th>0</th>\n",
              "      <td>194095</td>\n",
              "      <td>Wired Headphones</td>\n",
              "      <td>1</td>\n",
              "      <td>11.99</td>\n",
              "      <td>05/16/19 17:14</td>\n",
              "      <td>669 2nd St, New York City, NY 10001</td>\n",
              "      <td>5</td>\n",
              "      <td>11.99</td>\n",
              "    </tr>\n",
              "    <tr>\n",
              "      <th>1</th>\n",
              "      <td>194096</td>\n",
              "      <td>AA Batteries (4-pack)</td>\n",
              "      <td>1</td>\n",
              "      <td>3.84</td>\n",
              "      <td>05/19/19 14:43</td>\n",
              "      <td>844 Walnut St, Dallas, TX 75001</td>\n",
              "      <td>5</td>\n",
              "      <td>3.84</td>\n",
              "    </tr>\n",
              "    <tr>\n",
              "      <th>2</th>\n",
              "      <td>194097</td>\n",
              "      <td>27in FHD Monitor</td>\n",
              "      <td>1</td>\n",
              "      <td>149.99</td>\n",
              "      <td>05/24/19 11:36</td>\n",
              "      <td>164 Madison St, New York City, NY 10001</td>\n",
              "      <td>5</td>\n",
              "      <td>149.99</td>\n",
              "    </tr>\n",
              "    <tr>\n",
              "      <th>3</th>\n",
              "      <td>194098</td>\n",
              "      <td>Wired Headphones</td>\n",
              "      <td>1</td>\n",
              "      <td>11.99</td>\n",
              "      <td>05/02/19 20:40</td>\n",
              "      <td>622 Meadow St, Dallas, TX 75001</td>\n",
              "      <td>5</td>\n",
              "      <td>11.99</td>\n",
              "    </tr>\n",
              "    <tr>\n",
              "      <th>4</th>\n",
              "      <td>194099</td>\n",
              "      <td>AAA Batteries (4-pack)</td>\n",
              "      <td>2</td>\n",
              "      <td>2.99</td>\n",
              "      <td>05/11/19 22:55</td>\n",
              "      <td>17 Church St, Seattle, WA 98101</td>\n",
              "      <td>5</td>\n",
              "      <td>5.98</td>\n",
              "    </tr>\n",
              "    <tr>\n",
              "      <th>...</th>\n",
              "      <td>...</td>\n",
              "      <td>...</td>\n",
              "      <td>...</td>\n",
              "      <td>...</td>\n",
              "      <td>...</td>\n",
              "      <td>...</td>\n",
              "      <td>...</td>\n",
              "      <td>...</td>\n",
              "    </tr>\n",
              "    <tr>\n",
              "      <th>186845</th>\n",
              "      <td>176554</td>\n",
              "      <td>Lightning Charging Cable</td>\n",
              "      <td>1</td>\n",
              "      <td>14.95</td>\n",
              "      <td>03/24/19 11:14</td>\n",
              "      <td>672 12th St, San Francisco, CA 94016</td>\n",
              "      <td>3</td>\n",
              "      <td>14.95</td>\n",
              "    </tr>\n",
              "    <tr>\n",
              "      <th>186846</th>\n",
              "      <td>176555</td>\n",
              "      <td>27in FHD Monitor</td>\n",
              "      <td>1</td>\n",
              "      <td>149.99</td>\n",
              "      <td>03/22/19 20:27</td>\n",
              "      <td>42 4th St, San Francisco, CA 94016</td>\n",
              "      <td>3</td>\n",
              "      <td>149.99</td>\n",
              "    </tr>\n",
              "    <tr>\n",
              "      <th>186847</th>\n",
              "      <td>176556</td>\n",
              "      <td>AAA Batteries (4-pack)</td>\n",
              "      <td>3</td>\n",
              "      <td>2.99</td>\n",
              "      <td>03/14/19 10:29</td>\n",
              "      <td>871 7th St, Los Angeles, CA 90001</td>\n",
              "      <td>3</td>\n",
              "      <td>8.97</td>\n",
              "    </tr>\n",
              "    <tr>\n",
              "      <th>186848</th>\n",
              "      <td>176557</td>\n",
              "      <td>iPhone</td>\n",
              "      <td>1</td>\n",
              "      <td>700.00</td>\n",
              "      <td>03/30/19 12:32</td>\n",
              "      <td>83 Washington St, San Francisco, CA 94016</td>\n",
              "      <td>3</td>\n",
              "      <td>700.00</td>\n",
              "    </tr>\n",
              "    <tr>\n",
              "      <th>186849</th>\n",
              "      <td>176557</td>\n",
              "      <td>Lightning Charging Cable</td>\n",
              "      <td>1</td>\n",
              "      <td>14.95</td>\n",
              "      <td>03/30/19 12:32</td>\n",
              "      <td>83 Washington St, San Francisco, CA 94016</td>\n",
              "      <td>3</td>\n",
              "      <td>14.95</td>\n",
              "    </tr>\n",
              "  </tbody>\n",
              "</table>\n",
              "<p>185950 rows × 8 columns</p>\n",
              "</div>"
            ],
            "text/plain": [
              "       Order ID                   Product  ...  Month   Sales\n",
              "0        194095          Wired Headphones  ...      5   11.99\n",
              "1        194096     AA Batteries (4-pack)  ...      5    3.84\n",
              "2        194097          27in FHD Monitor  ...      5  149.99\n",
              "3        194098          Wired Headphones  ...      5   11.99\n",
              "4        194099    AAA Batteries (4-pack)  ...      5    5.98\n",
              "...         ...                       ...  ...    ...     ...\n",
              "186845   176554  Lightning Charging Cable  ...      3   14.95\n",
              "186846   176555          27in FHD Monitor  ...      3  149.99\n",
              "186847   176556    AAA Batteries (4-pack)  ...      3    8.97\n",
              "186848   176557                    iPhone  ...      3  700.00\n",
              "186849   176557  Lightning Charging Cable  ...      3   14.95\n",
              "\n",
              "[185950 rows x 8 columns]"
            ]
          },
          "metadata": {
            "tags": []
          },
          "execution_count": 11
        }
      ]
    },
    {
      "cell_type": "markdown",
      "metadata": {
        "id": "cW7cVnltWamA",
        "colab_type": "text"
      },
      "source": [
        "#### Add a City column"
      ]
    },
    {
      "cell_type": "code",
      "metadata": {
        "id": "U1fZ3uzoWnPH",
        "colab_type": "code",
        "colab": {}
      },
      "source": [
        "def get_city(purchase_address):\n",
        "    p_city = purchase_address.split(',')[1]\n",
        "    return p_city \n",
        "\n",
        "def get_state(address):\n",
        "    p_state_pin = address.split(',')[2]\n",
        "    p_state = p_state_pin.split(' ')[1]\n",
        "    return p_state\n",
        " "
      ],
      "execution_count": 12,
      "outputs": []
    },
    {
      "cell_type": "code",
      "metadata": {
        "id": "TEukyZ6TWcjQ",
        "colab_type": "code",
        "colab": {
          "base_uri": "https://localhost:8080/",
          "height": 297
        },
        "outputId": "7f36adaf-4166-4060-ada1-520eb884a993"
      },
      "source": [
        "#all_data['City'] =all_data['Purchase Address'].apply(get_city)\n",
        "\n",
        "all_data['State'] = all_data['Purchase Address'].apply(lambda x: get_state(x))\n",
        "all_data['City'] =all_data['Purchase Address'].apply(lambda x: f\"{get_city(x)} ({get_state(x)})\")\n",
        "all_data.head()"
      ],
      "execution_count": 13,
      "outputs": [
        {
          "output_type": "execute_result",
          "data": {
            "text/html": [
              "<div>\n",
              "<style scoped>\n",
              "    .dataframe tbody tr th:only-of-type {\n",
              "        vertical-align: middle;\n",
              "    }\n",
              "\n",
              "    .dataframe tbody tr th {\n",
              "        vertical-align: top;\n",
              "    }\n",
              "\n",
              "    .dataframe thead th {\n",
              "        text-align: right;\n",
              "    }\n",
              "</style>\n",
              "<table border=\"1\" class=\"dataframe\">\n",
              "  <thead>\n",
              "    <tr style=\"text-align: right;\">\n",
              "      <th></th>\n",
              "      <th>Order ID</th>\n",
              "      <th>Product</th>\n",
              "      <th>Quantity Ordered</th>\n",
              "      <th>Price Each</th>\n",
              "      <th>Order Date</th>\n",
              "      <th>Purchase Address</th>\n",
              "      <th>Month</th>\n",
              "      <th>Sales</th>\n",
              "      <th>State</th>\n",
              "      <th>City</th>\n",
              "    </tr>\n",
              "  </thead>\n",
              "  <tbody>\n",
              "    <tr>\n",
              "      <th>0</th>\n",
              "      <td>194095</td>\n",
              "      <td>Wired Headphones</td>\n",
              "      <td>1</td>\n",
              "      <td>11.99</td>\n",
              "      <td>05/16/19 17:14</td>\n",
              "      <td>669 2nd St, New York City, NY 10001</td>\n",
              "      <td>5</td>\n",
              "      <td>11.99</td>\n",
              "      <td>NY</td>\n",
              "      <td>New York City (NY)</td>\n",
              "    </tr>\n",
              "    <tr>\n",
              "      <th>1</th>\n",
              "      <td>194096</td>\n",
              "      <td>AA Batteries (4-pack)</td>\n",
              "      <td>1</td>\n",
              "      <td>3.84</td>\n",
              "      <td>05/19/19 14:43</td>\n",
              "      <td>844 Walnut St, Dallas, TX 75001</td>\n",
              "      <td>5</td>\n",
              "      <td>3.84</td>\n",
              "      <td>TX</td>\n",
              "      <td>Dallas (TX)</td>\n",
              "    </tr>\n",
              "    <tr>\n",
              "      <th>2</th>\n",
              "      <td>194097</td>\n",
              "      <td>27in FHD Monitor</td>\n",
              "      <td>1</td>\n",
              "      <td>149.99</td>\n",
              "      <td>05/24/19 11:36</td>\n",
              "      <td>164 Madison St, New York City, NY 10001</td>\n",
              "      <td>5</td>\n",
              "      <td>149.99</td>\n",
              "      <td>NY</td>\n",
              "      <td>New York City (NY)</td>\n",
              "    </tr>\n",
              "    <tr>\n",
              "      <th>3</th>\n",
              "      <td>194098</td>\n",
              "      <td>Wired Headphones</td>\n",
              "      <td>1</td>\n",
              "      <td>11.99</td>\n",
              "      <td>05/02/19 20:40</td>\n",
              "      <td>622 Meadow St, Dallas, TX 75001</td>\n",
              "      <td>5</td>\n",
              "      <td>11.99</td>\n",
              "      <td>TX</td>\n",
              "      <td>Dallas (TX)</td>\n",
              "    </tr>\n",
              "    <tr>\n",
              "      <th>4</th>\n",
              "      <td>194099</td>\n",
              "      <td>AAA Batteries (4-pack)</td>\n",
              "      <td>2</td>\n",
              "      <td>2.99</td>\n",
              "      <td>05/11/19 22:55</td>\n",
              "      <td>17 Church St, Seattle, WA 98101</td>\n",
              "      <td>5</td>\n",
              "      <td>5.98</td>\n",
              "      <td>WA</td>\n",
              "      <td>Seattle (WA)</td>\n",
              "    </tr>\n",
              "  </tbody>\n",
              "</table>\n",
              "</div>"
            ],
            "text/plain": [
              "  Order ID                 Product  ...  State                 City\n",
              "0   194095        Wired Headphones  ...     NY   New York City (NY)\n",
              "1   194096   AA Batteries (4-pack)  ...     TX          Dallas (TX)\n",
              "2   194097        27in FHD Monitor  ...     NY   New York City (NY)\n",
              "3   194098        Wired Headphones  ...     TX          Dallas (TX)\n",
              "4   194099  AAA Batteries (4-pack)  ...     WA         Seattle (WA)\n",
              "\n",
              "[5 rows x 10 columns]"
            ]
          },
          "metadata": {
            "tags": []
          },
          "execution_count": 13
        }
      ]
    },
    {
      "cell_type": "markdown",
      "metadata": {
        "id": "v88_vKJtFQeT",
        "colab_type": "text"
      },
      "source": [
        "### Best Month for sales"
      ]
    },
    {
      "cell_type": "code",
      "metadata": {
        "id": "f__oohaBFVeg",
        "colab_type": "code",
        "colab": {}
      },
      "source": [
        "results = all_data.groupby('Month').sum()"
      ],
      "execution_count": 14,
      "outputs": []
    },
    {
      "cell_type": "code",
      "metadata": {
        "id": "8-_K_hyIJm7h",
        "colab_type": "code",
        "colab": {
          "base_uri": "https://localhost:8080/",
          "height": 275
        },
        "outputId": "e8690161-ea06-434f-d854-10f1d26500ee"
      },
      "source": [
        "import matplotlib.pyplot as plt\n",
        "\n",
        "months = range(1,13)\n",
        "plt.bar(months, results['Sales'])\n",
        "plt.show()"
      ],
      "execution_count": 15,
      "outputs": [
        {
          "output_type": "display_data",
          "data": {
            "image/png": "[encoded data removed]",
            "text/plain": [
              "<Figure size 432x288 with 1 Axes>"
            ]
          },
          "metadata": {
            "tags": [],
            "needs_background": "light"
          }
        }
      ]
    },
    {
      "cell_type": "markdown",
      "metadata": {
        "id": "lC7P0Rnge4Am",
        "colab_type": "text"
      },
      "source": [
        "### what city has higest no of sales"
      ]
    },
    {
      "cell_type": "code",
      "metadata": {
        "id": "WyOTk2z_JpM8",
        "colab_type": "code",
        "colab": {}
      },
      "source": [
        "results = all_data.groupby('City').sum()"
      ],
      "execution_count": 16,
      "outputs": []
    },
    {
      "cell_type": "code",
      "metadata": {
        "id": "M9PeJoWtfE19",
        "colab_type": "code",
        "colab": {
          "base_uri": "https://localhost:8080/",
          "height": 344
        },
        "outputId": "3251a460-058c-4f16-ca13-4ad167818116"
      },
      "source": [
        "import matplotlib.pyplot as plt\n",
        "\n",
        "cities = [city for city, df in all_data.groupby('City')]\n",
        "#cities = all_data['City'].unique()\n",
        "plt.bar(cities, results['Sales'])\n",
        "plt.xticks(cities, rotation ='vertical', size =8)\n",
        "plt.ylabel('City name')\n",
        "plt.show()"
      ],
      "execution_count": 17,
      "outputs": [
        {
          "output_type": "display_data",
          "data": {
            "image/png": "[encoded data removed]",
            "text/plain": [
              "<Figure size 432x288 with 1 Axes>"
            ]
          },
          "metadata": {
            "tags": [],
            "needs_background": "light"
          }
        }
      ]
    },
    {
      "cell_type": "markdown",
      "metadata": {
        "id": "ffl3SuRYGhD6",
        "colab_type": "text"
      },
      "source": [
        "### What time should we display advertsiment to maximum likelihood of customer buying product"
      ]
    },
    {
      "cell_type": "code",
      "metadata": {
        "id": "g_DEyXJAGgOp",
        "colab_type": "code",
        "colab": {
          "base_uri": "https://localhost:8080/",
          "height": 297
        },
        "outputId": "7105f105-aea1-444f-d9c1-76d378f31335"
      },
      "source": [
        "all_data.head()"
      ],
      "execution_count": 18,
      "outputs": [
        {
          "output_type": "execute_result",
          "data": {
            "text/html": [
              "<div>\n",
              "<style scoped>\n",
              "    .dataframe tbody tr th:only-of-type {\n",
              "        vertical-align: middle;\n",
              "    }\n",
              "\n",
              "    .dataframe tbody tr th {\n",
              "        vertical-align: top;\n",
              "    }\n",
              "\n",
              "    .dataframe thead th {\n",
              "        text-align: right;\n",
              "    }\n",
              "</style>\n",
              "<table border=\"1\" class=\"dataframe\">\n",
              "  <thead>\n",
              "    <tr style=\"text-align: right;\">\n",
              "      <th></th>\n",
              "      <th>Order ID</th>\n",
              "      <th>Product</th>\n",
              "      <th>Quantity Ordered</th>\n",
              "      <th>Price Each</th>\n",
              "      <th>Order Date</th>\n",
              "      <th>Purchase Address</th>\n",
              "      <th>Month</th>\n",
              "      <th>Sales</th>\n",
              "      <th>State</th>\n",
              "      <th>City</th>\n",
              "    </tr>\n",
              "  </thead>\n",
              "  <tbody>\n",
              "    <tr>\n",
              "      <th>0</th>\n",
              "      <td>194095</td>\n",
              "      <td>Wired Headphones</td>\n",
              "      <td>1</td>\n",
              "      <td>11.99</td>\n",
              "      <td>05/16/19 17:14</td>\n",
              "      <td>669 2nd St, New York City, NY 10001</td>\n",
              "      <td>5</td>\n",
              "      <td>11.99</td>\n",
              "      <td>NY</td>\n",
              "      <td>New York City (NY)</td>\n",
              "    </tr>\n",
              "    <tr>\n",
              "      <th>1</th>\n",
              "      <td>194096</td>\n",
              "      <td>AA Batteries (4-pack)</td>\n",
              "      <td>1</td>\n",
              "      <td>3.84</td>\n",
              "      <td>05/19/19 14:43</td>\n",
              "      <td>844 Walnut St, Dallas, TX 75001</td>\n",
              "      <td>5</td>\n",
              "      <td>3.84</td>\n",
              "      <td>TX</td>\n",
              "      <td>Dallas (TX)</td>\n",
              "    </tr>\n",
              "    <tr>\n",
              "      <th>2</th>\n",
              "      <td>194097</td>\n",
              "      <td>27in FHD Monitor</td>\n",
              "      <td>1</td>\n",
              "      <td>149.99</td>\n",
              "      <td>05/24/19 11:36</td>\n",
              "      <td>164 Madison St, New York City, NY 10001</td>\n",
              "      <td>5</td>\n",
              "      <td>149.99</td>\n",
              "      <td>NY</td>\n",
              "      <td>New York City (NY)</td>\n",
              "    </tr>\n",
              "    <tr>\n",
              "      <th>3</th>\n",
              "      <td>194098</td>\n",
              "      <td>Wired Headphones</td>\n",
              "      <td>1</td>\n",
              "      <td>11.99</td>\n",
              "      <td>05/02/19 20:40</td>\n",
              "      <td>622 Meadow St, Dallas, TX 75001</td>\n",
              "      <td>5</td>\n",
              "      <td>11.99</td>\n",
              "      <td>TX</td>\n",
              "      <td>Dallas (TX)</td>\n",
              "    </tr>\n",
              "    <tr>\n",
              "      <th>4</th>\n",
              "      <td>194099</td>\n",
              "      <td>AAA Batteries (4-pack)</td>\n",
              "      <td>2</td>\n",
              "      <td>2.99</td>\n",
              "      <td>05/11/19 22:55</td>\n",
              "      <td>17 Church St, Seattle, WA 98101</td>\n",
              "      <td>5</td>\n",
              "      <td>5.98</td>\n",
              "      <td>WA</td>\n",
              "      <td>Seattle (WA)</td>\n",
              "    </tr>\n",
              "  </tbody>\n",
              "</table>\n",
              "</div>"
            ],
            "text/plain": [
              "  Order ID                 Product  ...  State                 City\n",
              "0   194095        Wired Headphones  ...     NY   New York City (NY)\n",
              "1   194096   AA Batteries (4-pack)  ...     TX          Dallas (TX)\n",
              "2   194097        27in FHD Monitor  ...     NY   New York City (NY)\n",
              "3   194098        Wired Headphones  ...     TX          Dallas (TX)\n",
              "4   194099  AAA Batteries (4-pack)  ...     WA         Seattle (WA)\n",
              "\n",
              "[5 rows x 10 columns]"
            ]
          },
          "metadata": {
            "tags": []
          },
          "execution_count": 18
        }
      ]
    },
    {
      "cell_type": "code",
      "metadata": {
        "id": "YUG0XMKNGgf4",
        "colab_type": "code",
        "colab": {}
      },
      "source": [
        "all_data['Order Date'] = pd.to_datetime(all_data['Order Date'])"
      ],
      "execution_count": 19,
      "outputs": []
    },
    {
      "cell_type": "code",
      "metadata": {
        "id": "9pzkw4FxGgc9",
        "colab_type": "code",
        "colab": {
          "base_uri": "https://localhost:8080/",
          "height": 297
        },
        "outputId": "b674fda8-18a0-43ca-cfd2-008c31271e7b"
      },
      "source": [
        "all_data['Hour']   = all_data['Order Date'].dt.hour \n",
        "all_data['Minute'] = all_data['Order Date'].dt.minute\n",
        "all_data.head()"
      ],
      "execution_count": 21,
      "outputs": [
        {
          "output_type": "execute_result",
          "data": {
            "text/html": [
              "<div>\n",
              "<style scoped>\n",
              "    .dataframe tbody tr th:only-of-type {\n",
              "        vertical-align: middle;\n",
              "    }\n",
              "\n",
              "    .dataframe tbody tr th {\n",
              "        vertical-align: top;\n",
              "    }\n",
              "\n",
              "    .dataframe thead th {\n",
              "        text-align: right;\n",
              "    }\n",
              "</style>\n",
              "<table border=\"1\" class=\"dataframe\">\n",
              "  <thead>\n",
              "    <tr style=\"text-align: right;\">\n",
              "      <th></th>\n",
              "      <th>Order ID</th>\n",
              "      <th>Product</th>\n",
              "      <th>Quantity Ordered</th>\n",
              "      <th>Price Each</th>\n",
              "      <th>Order Date</th>\n",
              "      <th>Purchase Address</th>\n",
              "      <th>Month</th>\n",
              "      <th>Sales</th>\n",
              "      <th>State</th>\n",
              "      <th>City</th>\n",
              "      <th>Hour</th>\n",
              "      <th>Minute</th>\n",
              "    </tr>\n",
              "  </thead>\n",
              "  <tbody>\n",
              "    <tr>\n",
              "      <th>0</th>\n",
              "      <td>194095</td>\n",
              "      <td>Wired Headphones</td>\n",
              "      <td>1</td>\n",
              "      <td>11.99</td>\n",
              "      <td>2019-05-16 17:14:00</td>\n",
              "      <td>669 2nd St, New York City, NY 10001</td>\n",
              "      <td>5</td>\n",
              "      <td>11.99</td>\n",
              "      <td>NY</td>\n",
              "      <td>New York City (NY)</td>\n",
              "      <td>17</td>\n",
              "      <td>14</td>\n",
              "    </tr>\n",
              "    <tr>\n",
              "      <th>1</th>\n",
              "      <td>194096</td>\n",
              "      <td>AA Batteries (4-pack)</td>\n",
              "      <td>1</td>\n",
              "      <td>3.84</td>\n",
              "      <td>2019-05-19 14:43:00</td>\n",
              "      <td>844 Walnut St, Dallas, TX 75001</td>\n",
              "      <td>5</td>\n",
              "      <td>3.84</td>\n",
              "      <td>TX</td>\n",
              "      <td>Dallas (TX)</td>\n",
              "      <td>14</td>\n",
              "      <td>43</td>\n",
              "    </tr>\n",
              "    <tr>\n",
              "      <th>2</th>\n",
              "      <td>194097</td>\n",
              "      <td>27in FHD Monitor</td>\n",
              "      <td>1</td>\n",
              "      <td>149.99</td>\n",
              "      <td>2019-05-24 11:36:00</td>\n",
              "      <td>164 Madison St, New York City, NY 10001</td>\n",
              "      <td>5</td>\n",
              "      <td>149.99</td>\n",
              "      <td>NY</td>\n",
              "      <td>New York City (NY)</td>\n",
              "      <td>11</td>\n",
              "      <td>36</td>\n",
              "    </tr>\n",
              "    <tr>\n",
              "      <th>3</th>\n",
              "      <td>194098</td>\n",
              "      <td>Wired Headphones</td>\n",
              "      <td>1</td>\n",
              "      <td>11.99</td>\n",
              "      <td>2019-05-02 20:40:00</td>\n",
              "      <td>622 Meadow St, Dallas, TX 75001</td>\n",
              "      <td>5</td>\n",
              "      <td>11.99</td>\n",
              "      <td>TX</td>\n",
              "      <td>Dallas (TX)</td>\n",
              "      <td>20</td>\n",
              "      <td>40</td>\n",
              "    </tr>\n",
              "    <tr>\n",
              "      <th>4</th>\n",
              "      <td>194099</td>\n",
              "      <td>AAA Batteries (4-pack)</td>\n",
              "      <td>2</td>\n",
              "      <td>2.99</td>\n",
              "      <td>2019-05-11 22:55:00</td>\n",
              "      <td>17 Church St, Seattle, WA 98101</td>\n",
              "      <td>5</td>\n",
              "      <td>5.98</td>\n",
              "      <td>WA</td>\n",
              "      <td>Seattle (WA)</td>\n",
              "      <td>22</td>\n",
              "      <td>55</td>\n",
              "    </tr>\n",
              "  </tbody>\n",
              "</table>\n",
              "</div>"
            ],
            "text/plain": [
              "  Order ID                 Product  ...  Hour  Minute\n",
              "0   194095        Wired Headphones  ...    17      14\n",
              "1   194096   AA Batteries (4-pack)  ...    14      43\n",
              "2   194097        27in FHD Monitor  ...    11      36\n",
              "3   194098        Wired Headphones  ...    20      40\n",
              "4   194099  AAA Batteries (4-pack)  ...    22      55\n",
              "\n",
              "[5 rows x 12 columns]"
            ]
          },
          "metadata": {
            "tags": []
          },
          "execution_count": 21
        }
      ]
    },
    {
      "cell_type": "code",
      "metadata": {
        "id": "PPFBrNEDGgZm",
        "colab_type": "code",
        "colab": {
          "base_uri": "https://localhost:8080/",
          "height": 278
        },
        "outputId": "b503aa68-6592-49d5-dcd8-cd15126cdc01"
      },
      "source": [
        "import matplotlib.pyplot as plt\n",
        "\n",
        "hours = [hour for hour, df in all_data.groupby('Hour')]\n",
        "#cities = all_data['City'].unique()\n",
        "plt.plot(hours, all_data.groupby(['Hour']).count()) \n",
        "plt.xticks(hours)\n",
        "plt.xlabel('Hour')\n",
        "plt.ylabel('Numbers of Orders')\n",
        "plt.grid()\n",
        "plt.show()"
      ],
      "execution_count": 30,
      "outputs": [
        {
          "output_type": "display_data",
          "data": {
            "image/png": "[encoded data removed]",
            "text/plain": [
              "<Figure size 432x288 with 1 Axes>"
            ]
          },
          "metadata": {
            "tags": [],
            "needs_background": "light"
          }
        }
      ]
    },
    {
      "cell_type": "code",
      "metadata": {
        "id": "txJ5rv2ho3aR",
        "colab_type": "code",
        "colab": {
          "base_uri": "https://localhost:8080/",
          "height": 397
        },
        "outputId": "4bbaf99b-d02b-41e1-8c5f-811c985fb895"
      },
      "source": [
        "df_dup.head()"
      ],
      "execution_count": 41,
      "outputs": [
        {
          "output_type": "execute_result",
          "data": {
            "text/html": [
              "<div>\n",
              "<style scoped>\n",
              "    .dataframe tbody tr th:only-of-type {\n",
              "        vertical-align: middle;\n",
              "    }\n",
              "\n",
              "    .dataframe tbody tr th {\n",
              "        vertical-align: top;\n",
              "    }\n",
              "\n",
              "    .dataframe thead th {\n",
              "        text-align: right;\n",
              "    }\n",
              "</style>\n",
              "<table border=\"1\" class=\"dataframe\">\n",
              "  <thead>\n",
              "    <tr style=\"text-align: right;\">\n",
              "      <th></th>\n",
              "      <th>Order ID</th>\n",
              "      <th>Product</th>\n",
              "      <th>Quantity Ordered</th>\n",
              "      <th>Price Each</th>\n",
              "      <th>Order Date</th>\n",
              "      <th>Purchase Address</th>\n",
              "      <th>Month</th>\n",
              "      <th>Sales</th>\n",
              "      <th>State</th>\n",
              "      <th>City</th>\n",
              "      <th>Hour</th>\n",
              "      <th>Minute</th>\n",
              "      <th>Grouped</th>\n",
              "    </tr>\n",
              "  </thead>\n",
              "  <tbody>\n",
              "    <tr>\n",
              "      <th>15</th>\n",
              "      <td>194110</td>\n",
              "      <td>Google Phone</td>\n",
              "      <td>1</td>\n",
              "      <td>600.00</td>\n",
              "      <td>2019-05-31 18:07:00</td>\n",
              "      <td>498 14th St, Los Angeles, CA 90001</td>\n",
              "      <td>5</td>\n",
              "      <td>600.00</td>\n",
              "      <td>CA</td>\n",
              "      <td>Los Angeles (CA)</td>\n",
              "      <td>18</td>\n",
              "      <td>7</td>\n",
              "      <td>Google Phone,Wired Headphones</td>\n",
              "    </tr>\n",
              "    <tr>\n",
              "      <th>16</th>\n",
              "      <td>194110</td>\n",
              "      <td>Wired Headphones</td>\n",
              "      <td>1</td>\n",
              "      <td>11.99</td>\n",
              "      <td>2019-05-31 18:07:00</td>\n",
              "      <td>498 14th St, Los Angeles, CA 90001</td>\n",
              "      <td>5</td>\n",
              "      <td>11.99</td>\n",
              "      <td>CA</td>\n",
              "      <td>Los Angeles (CA)</td>\n",
              "      <td>18</td>\n",
              "      <td>7</td>\n",
              "      <td>Google Phone,Wired Headphones</td>\n",
              "    </tr>\n",
              "    <tr>\n",
              "      <th>77</th>\n",
              "      <td>194170</td>\n",
              "      <td>Google Phone</td>\n",
              "      <td>1</td>\n",
              "      <td>600.00</td>\n",
              "      <td>2019-05-30 12:30:00</td>\n",
              "      <td>711 Maple St, San Francisco, CA 94016</td>\n",
              "      <td>5</td>\n",
              "      <td>600.00</td>\n",
              "      <td>CA</td>\n",
              "      <td>San Francisco (CA)</td>\n",
              "      <td>12</td>\n",
              "      <td>30</td>\n",
              "      <td>Google Phone,USB-C Charging Cable</td>\n",
              "    </tr>\n",
              "    <tr>\n",
              "      <th>78</th>\n",
              "      <td>194170</td>\n",
              "      <td>USB-C Charging Cable</td>\n",
              "      <td>2</td>\n",
              "      <td>11.95</td>\n",
              "      <td>2019-05-30 12:30:00</td>\n",
              "      <td>711 Maple St, San Francisco, CA 94016</td>\n",
              "      <td>5</td>\n",
              "      <td>23.90</td>\n",
              "      <td>CA</td>\n",
              "      <td>San Francisco (CA)</td>\n",
              "      <td>12</td>\n",
              "      <td>30</td>\n",
              "      <td>Google Phone,USB-C Charging Cable</td>\n",
              "    </tr>\n",
              "    <tr>\n",
              "      <th>82</th>\n",
              "      <td>194174</td>\n",
              "      <td>iPhone</td>\n",
              "      <td>1</td>\n",
              "      <td>700.00</td>\n",
              "      <td>2019-05-04 23:08:00</td>\n",
              "      <td>37 North St, Seattle, WA 98101</td>\n",
              "      <td>5</td>\n",
              "      <td>700.00</td>\n",
              "      <td>WA</td>\n",
              "      <td>Seattle (WA)</td>\n",
              "      <td>23</td>\n",
              "      <td>8</td>\n",
              "      <td>iPhone,Lightning Charging Cable,Wired Headphones</td>\n",
              "    </tr>\n",
              "  </tbody>\n",
              "</table>\n",
              "</div>"
            ],
            "text/plain": [
              "   Order ID  ...                                           Grouped\n",
              "15   194110  ...                     Google Phone,Wired Headphones\n",
              "16   194110  ...                     Google Phone,Wired Headphones\n",
              "77   194170  ...                 Google Phone,USB-C Charging Cable\n",
              "78   194170  ...                 Google Phone,USB-C Charging Cable\n",
              "82   194174  ...  iPhone,Lightning Charging Cable,Wired Headphones\n",
              "\n",
              "[5 rows x 13 columns]"
            ]
          },
          "metadata": {
            "tags": []
          },
          "execution_count": 41
        }
      ]
    },
    {
      "cell_type": "markdown",
      "metadata": {
        "id": "vTnshiphd5yv",
        "colab_type": "text"
      },
      "source": [
        "### What product are often sold together"
      ]
    },
    {
      "cell_type": "code",
      "metadata": {
        "id": "tzqHxl7tKhas",
        "colab_type": "code",
        "colab": {
          "base_uri": "https://localhost:8080/",
          "height": 304
        },
        "outputId": "ea64e417-4f85-4e85-d702-aafac100f56a"
      },
      "source": [
        "df_dup = all_data[all_data['Order ID'].duplicated(keep= False)]\n",
        "\n",
        "df_dup['Grouped'] = df_dup.groupby('Order ID')['Product'].transform(lambda x: ','.join(x))\n",
        "\n",
        "df_dup = df_dup[['Order ID','Grouped']].drop_duplicates()\n",
        "df_dup.head()"
      ],
      "execution_count": 43,
      "outputs": [
        {
          "output_type": "stream",
          "text": [
            "/usr/local/lib/python3.6/dist-packages/ipykernel_launcher.py:3: SettingWithCopyWarning: \n",
            "A value is trying to be set on a copy of a slice from a DataFrame.\n",
            "Try using .loc[row_indexer,col_indexer] = value instead\n",
            "\n",
            "See the caveats in the documentation: https://pandas.pydata.org/pandas-docs/stable/user_guide/indexing.html#returning-a-view-versus-a-copy\n",
            "  This is separate from the ipykernel package so we can avoid doing imports until\n"
          ],
          "name": "stderr"
        },
        {
          "output_type": "execute_result",
          "data": {
            "text/html": [
              "<div>\n",
              "<style scoped>\n",
              "    .dataframe tbody tr th:only-of-type {\n",
              "        vertical-align: middle;\n",
              "    }\n",
              "\n",
              "    .dataframe tbody tr th {\n",
              "        vertical-align: top;\n",
              "    }\n",
              "\n",
              "    .dataframe thead th {\n",
              "        text-align: right;\n",
              "    }\n",
              "</style>\n",
              "<table border=\"1\" class=\"dataframe\">\n",
              "  <thead>\n",
              "    <tr style=\"text-align: right;\">\n",
              "      <th></th>\n",
              "      <th>Order ID</th>\n",
              "      <th>Grouped</th>\n",
              "    </tr>\n",
              "  </thead>\n",
              "  <tbody>\n",
              "    <tr>\n",
              "      <th>15</th>\n",
              "      <td>194110</td>\n",
              "      <td>Google Phone,Wired Headphones</td>\n",
              "    </tr>\n",
              "    <tr>\n",
              "      <th>77</th>\n",
              "      <td>194170</td>\n",
              "      <td>Google Phone,USB-C Charging Cable</td>\n",
              "    </tr>\n",
              "    <tr>\n",
              "      <th>82</th>\n",
              "      <td>194174</td>\n",
              "      <td>iPhone,Lightning Charging Cable,Wired Headphones</td>\n",
              "    </tr>\n",
              "    <tr>\n",
              "      <th>89</th>\n",
              "      <td>194179</td>\n",
              "      <td>Flatscreen TV,AAA Batteries (4-pack)</td>\n",
              "    </tr>\n",
              "    <tr>\n",
              "      <th>103</th>\n",
              "      <td>194192</td>\n",
              "      <td>Wired Headphones,Bose SoundSport Headphones</td>\n",
              "    </tr>\n",
              "  </tbody>\n",
              "</table>\n",
              "</div>"
            ],
            "text/plain": [
              "    Order ID                                           Grouped\n",
              "15    194110                     Google Phone,Wired Headphones\n",
              "77    194170                 Google Phone,USB-C Charging Cable\n",
              "82    194174  iPhone,Lightning Charging Cable,Wired Headphones\n",
              "89    194179              Flatscreen TV,AAA Batteries (4-pack)\n",
              "103   194192       Wired Headphones,Bose SoundSport Headphones"
            ]
          },
          "metadata": {
            "tags": []
          },
          "execution_count": 43
        }
      ]
    },
    {
      "cell_type": "code",
      "metadata": {
        "id": "2Jjigs7ajxvw",
        "colab_type": "code",
        "colab": {
          "base_uri": "https://localhost:8080/",
          "height": 194
        },
        "outputId": "4c8d69f3-5257-4238-ec26-a1c245775399"
      },
      "source": [
        "from itertools import combinations\n",
        "from collections import Counter\n",
        "\n",
        "count = Counter()\n",
        "\n",
        "for row in df_dup['Grouped']:\n",
        "    row_list = row.split(',')\n",
        "    count.update(Counter(combinations(row_list, 2)))\n",
        "\n",
        "for key, value in count.most_common(10):\n",
        "    print(key, value)"
      ],
      "execution_count": 47,
      "outputs": [
        {
          "output_type": "stream",
          "text": [
            "('iPhone', 'Lightning Charging Cable') 1005\n",
            "('Google Phone', 'USB-C Charging Cable') 987\n",
            "('iPhone', 'Wired Headphones') 447\n",
            "('Google Phone', 'Wired Headphones') 414\n",
            "('Vareebadd Phone', 'USB-C Charging Cable') 361\n",
            "('iPhone', 'Apple Airpods Headphones') 360\n",
            "('Google Phone', 'Bose SoundSport Headphones') 220\n",
            "('USB-C Charging Cable', 'Wired Headphones') 160\n",
            "('Vareebadd Phone', 'Wired Headphones') 143\n",
            "('Lightning Charging Cable', 'Wired Headphones') 92\n"
          ],
          "name": "stdout"
        }
      ]
    },
    {
      "cell_type": "markdown",
      "metadata": {
        "id": "4kcH7Q7iq5bB",
        "colab_type": "text"
      },
      "source": [
        "### What product sold most and why?"
      ]
    },
    {
      "cell_type": "code",
      "metadata": {
        "id": "7W5U5xHrq-V-",
        "colab_type": "code",
        "colab": {
          "base_uri": "https://localhost:8080/",
          "height": 297
        },
        "outputId": "3c14ce66-58fd-404c-ff7b-d727d032b775"
      },
      "source": [
        "all_data.head()"
      ],
      "execution_count": 48,
      "outputs": [
        {
          "output_type": "execute_result",
          "data": {
            "text/html": [
              "<div>\n",
              "<style scoped>\n",
              "    .dataframe tbody tr th:only-of-type {\n",
              "        vertical-align: middle;\n",
              "    }\n",
              "\n",
              "    .dataframe tbody tr th {\n",
              "        vertical-align: top;\n",
              "    }\n",
              "\n",
              "    .dataframe thead th {\n",
              "        text-align: right;\n",
              "    }\n",
              "</style>\n",
              "<table border=\"1\" class=\"dataframe\">\n",
              "  <thead>\n",
              "    <tr style=\"text-align: right;\">\n",
              "      <th></th>\n",
              "      <th>Order ID</th>\n",
              "      <th>Product</th>\n",
              "      <th>Quantity Ordered</th>\n",
              "      <th>Price Each</th>\n",
              "      <th>Order Date</th>\n",
              "      <th>Purchase Address</th>\n",
              "      <th>Month</th>\n",
              "      <th>Sales</th>\n",
              "      <th>State</th>\n",
              "      <th>City</th>\n",
              "      <th>Hour</th>\n",
              "      <th>Minute</th>\n",
              "    </tr>\n",
              "  </thead>\n",
              "  <tbody>\n",
              "    <tr>\n",
              "      <th>0</th>\n",
              "      <td>194095</td>\n",
              "      <td>Wired Headphones</td>\n",
              "      <td>1</td>\n",
              "      <td>11.99</td>\n",
              "      <td>2019-05-16 17:14:00</td>\n",
              "      <td>669 2nd St, New York City, NY 10001</td>\n",
              "      <td>5</td>\n",
              "      <td>11.99</td>\n",
              "      <td>NY</td>\n",
              "      <td>New York City (NY)</td>\n",
              "      <td>17</td>\n",
              "      <td>14</td>\n",
              "    </tr>\n",
              "    <tr>\n",
              "      <th>1</th>\n",
              "      <td>194096</td>\n",
              "      <td>AA Batteries (4-pack)</td>\n",
              "      <td>1</td>\n",
              "      <td>3.84</td>\n",
              "      <td>2019-05-19 14:43:00</td>\n",
              "      <td>844 Walnut St, Dallas, TX 75001</td>\n",
              "      <td>5</td>\n",
              "      <td>3.84</td>\n",
              "      <td>TX</td>\n",
              "      <td>Dallas (TX)</td>\n",
              "      <td>14</td>\n",
              "      <td>43</td>\n",
              "    </tr>\n",
              "    <tr>\n",
              "      <th>2</th>\n",
              "      <td>194097</td>\n",
              "      <td>27in FHD Monitor</td>\n",
              "      <td>1</td>\n",
              "      <td>149.99</td>\n",
              "      <td>2019-05-24 11:36:00</td>\n",
              "      <td>164 Madison St, New York City, NY 10001</td>\n",
              "      <td>5</td>\n",
              "      <td>149.99</td>\n",
              "      <td>NY</td>\n",
              "      <td>New York City (NY)</td>\n",
              "      <td>11</td>\n",
              "      <td>36</td>\n",
              "    </tr>\n",
              "    <tr>\n",
              "      <th>3</th>\n",
              "      <td>194098</td>\n",
              "      <td>Wired Headphones</td>\n",
              "      <td>1</td>\n",
              "      <td>11.99</td>\n",
              "      <td>2019-05-02 20:40:00</td>\n",
              "      <td>622 Meadow St, Dallas, TX 75001</td>\n",
              "      <td>5</td>\n",
              "      <td>11.99</td>\n",
              "      <td>TX</td>\n",
              "      <td>Dallas (TX)</td>\n",
              "      <td>20</td>\n",
              "      <td>40</td>\n",
              "    </tr>\n",
              "    <tr>\n",
              "      <th>4</th>\n",
              "      <td>194099</td>\n",
              "      <td>AAA Batteries (4-pack)</td>\n",
              "      <td>2</td>\n",
              "      <td>2.99</td>\n",
              "      <td>2019-05-11 22:55:00</td>\n",
              "      <td>17 Church St, Seattle, WA 98101</td>\n",
              "      <td>5</td>\n",
              "      <td>5.98</td>\n",
              "      <td>WA</td>\n",
              "      <td>Seattle (WA)</td>\n",
              "      <td>22</td>\n",
              "      <td>55</td>\n",
              "    </tr>\n",
              "  </tbody>\n",
              "</table>\n",
              "</div>"
            ],
            "text/plain": [
              "  Order ID                 Product  ...  Hour  Minute\n",
              "0   194095        Wired Headphones  ...    17      14\n",
              "1   194096   AA Batteries (4-pack)  ...    14      43\n",
              "2   194097        27in FHD Monitor  ...    11      36\n",
              "3   194098        Wired Headphones  ...    20      40\n",
              "4   194099  AAA Batteries (4-pack)  ...    22      55\n",
              "\n",
              "[5 rows x 12 columns]"
            ]
          },
          "metadata": {
            "tags": []
          },
          "execution_count": 48
        }
      ]
    },
    {
      "cell_type": "code",
      "metadata": {
        "id": "GrcQyVGnrBAy",
        "colab_type": "code",
        "colab": {
          "base_uri": "https://localhost:8080/",
          "height": 497
        },
        "outputId": "61d9fd2f-1ab3-45c9-cadb-4dc25f1ff81f"
      },
      "source": [
        "product_group = all_data.groupby(\"Product\")\n",
        "quantity_ordered = product_group.sum()['Quantity Ordered']\n",
        "\n",
        "products =[product for product, df in product_group]\n",
        "\n",
        "plt.bar(products, quantity_ordered) \n",
        "plt.xticks(products, rotation = 'vertical', size =15)\n",
        "plt.xlabel('Product')\n",
        "plt.ylabel('Quantity Orders')\n",
        "plt.grid()\n",
        "plt.show()"
      ],
      "execution_count": 57,
      "outputs": [
        {
          "output_type": "display_data",
          "data": {
            "image/png": "[encoded data removed]",
            "text/plain": [
              "<Figure size 432x288 with 1 Axes>"
            ]
          },
          "metadata": {
            "tags": [],
            "needs_background": "light"
          }
        }
      ]
    },
    {
      "cell_type": "code",
      "metadata": {
        "id": "qzsh1dd_rucx",
        "colab_type": "code",
        "colab": {
          "base_uri": "https://localhost:8080/",
          "height": 391
        },
        "outputId": "d657b6ea-e867-4760-d3c0-6e51bd0c7ca0"
      },
      "source": [
        "prices = all_data.groupby('Product').mean()['Price Each']\n",
        "\n",
        "fig, ax1 = plt.subplots()\n",
        "\n",
        "ax2 = ax1.twinx()\n",
        "ax1.bar(products, quantity_ordered, color ='g')\n",
        "ax2.plot(products, prices)\n",
        "\n",
        "ax1.set_xlabel('Product Name')\n",
        "ax1.set_ylabel('Quantity Ordered', color ='g')\n",
        "ax2.set_ylabel('price ($', color ='b')\n",
        "ax1.set_xticklabels(products, rotation ='vertical', size = 8)\n",
        "\n",
        "plt.show()"
      ],
      "execution_count": 60,
      "outputs": [
        {
          "output_type": "display_data",
          "data": {
            "image/png": "[encoded data removed]",
            "text/plain": [
              "<Figure size 432x288 with 2 Axes>"
            ]
          },
          "metadata": {
            "tags": [],
            "needs_background": "light"
          }
        }
      ]
    },
    {
      "cell_type": "code",
      "metadata": {
        "id": "rc7nlSb1rB4x",
        "colab_type": "code",
        "colab": {}
      },
      "source": [
        ""
      ],
      "execution_count": null,
      "outputs": []
    },
    {
      "cell_type": "code",
      "metadata": {
        "id": "a5OhSv8srB04",
        "colab_type": "code",
        "colab": {}
      },
      "source": [
        ""
      ],
      "execution_count": null,
      "outputs": []
    }
  ]
}